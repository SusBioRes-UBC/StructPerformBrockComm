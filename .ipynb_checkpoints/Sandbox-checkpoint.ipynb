{
 "cells": [
  {
   "cell_type": "markdown",
   "id": "08afc884-e7e0-48c5-b169-cf741db143fa",
   "metadata": {},
   "source": [
    "## This is the sandbox to try out different scripts for Brock Common Tallwood House project"
   ]
  },
  {
   "cell_type": "code",
   "execution_count": 1,
   "id": "b90d57e2-8be0-487f-a155-67dba42843b0",
   "metadata": {},
   "outputs": [],
   "source": [
    "from brock_comm_CLT_perform import CLT_perform\n",
    "import pandas as pd\n",
    "from datetime import datetime as dt"
   ]
  },
  {
   "cell_type": "code",
   "execution_count": 2,
   "id": "807b7b65-f573-4b26-b5c7-4d177b3652b9",
   "metadata": {
    "tags": []
   },
   "outputs": [],
   "source": [
    "trial_1 = CLT_perform(\"String Pots.csv\")\n",
    "datasheet = trial_1.worksheet\n"
   ]
  },
  {
   "cell_type": "code",
   "execution_count": 3,
   "id": "679219c2-a449-48dd-96cc-44b683c24387",
   "metadata": {
    "collapsed": true,
    "jupyter": {
     "outputs_hidden": true
    },
    "tags": []
   },
   "outputs": [
    {
     "data": {
      "text/html": [
       "<div>\n",
       "<style scoped>\n",
       "    .dataframe tbody tr th:only-of-type {\n",
       "        vertical-align: middle;\n",
       "    }\n",
       "\n",
       "    .dataframe tbody tr th {\n",
       "        vertical-align: top;\n",
       "    }\n",
       "\n",
       "    .dataframe thead th {\n",
       "        text-align: right;\n",
       "    }\n",
       "</style>\n",
       "<table border=\"1\" class=\"dataframe\">\n",
       "  <thead>\n",
       "    <tr style=\"text-align: right;\">\n",
       "      <th></th>\n",
       "      <th>DateTime</th>\n",
       "      <th>5-6 Floor String Pot (8917/18)</th>\n",
       "      <th>4-5 Floor String Pot (8917/17)</th>\n",
       "      <th>3-4 Floor String Pot (8931/19)</th>\n",
       "      <th>2nd Floor String Pot (edge) (5587/2)</th>\n",
       "      <th>9th Floor String Pot (8903/17)</th>\n",
       "      <th>10th Floor String Pot (8903/18)</th>\n",
       "      <th>12th Floor String Pot (8903/19)</th>\n",
       "      <th>13th Floor String Pot (8903/20)</th>\n",
       "      <th>16th Floor String Pot (8903/22)</th>\n",
       "      <th>17th Floor String Pot (8903/23)</th>\n",
       "      <th>18th Floor String Pot (8903/24)</th>\n",
       "      <th>7th Floor String Pot (8917/23)</th>\n",
       "      <th>8th Floor String Pot (8917/24)</th>\n",
       "      <th>15th Floor String Pot (8903/21)</th>\n",
       "      <th>Date</th>\n",
       "      <th>Time</th>\n",
       "    </tr>\n",
       "  </thead>\n",
       "  <tbody>\n",
       "    <tr>\n",
       "      <th>0</th>\n",
       "      <td>2016-04-30 23:00:00</td>\n",
       "      <td>None</td>\n",
       "      <td>None</td>\n",
       "      <td>None</td>\n",
       "      <td>None</td>\n",
       "      <td>None</td>\n",
       "      <td>None</td>\n",
       "      <td>None</td>\n",
       "      <td>None</td>\n",
       "      <td>None</td>\n",
       "      <td>None</td>\n",
       "      <td>None</td>\n",
       "      <td>None</td>\n",
       "      <td>None</td>\n",
       "      <td>None</td>\n",
       "      <td>2016-04-30</td>\n",
       "      <td>23:00:00</td>\n",
       "    </tr>\n",
       "    <tr>\n",
       "      <th>1</th>\n",
       "      <td>2016-05-01 01:00:00</td>\n",
       "      <td>None</td>\n",
       "      <td>None</td>\n",
       "      <td>None</td>\n",
       "      <td>None</td>\n",
       "      <td>None</td>\n",
       "      <td>None</td>\n",
       "      <td>None</td>\n",
       "      <td>None</td>\n",
       "      <td>None</td>\n",
       "      <td>None</td>\n",
       "      <td>None</td>\n",
       "      <td>None</td>\n",
       "      <td>None</td>\n",
       "      <td>None</td>\n",
       "      <td>2016-05-01</td>\n",
       "      <td>01:00:00</td>\n",
       "    </tr>\n",
       "    <tr>\n",
       "      <th>2</th>\n",
       "      <td>2016-05-01 03:00:00</td>\n",
       "      <td>None</td>\n",
       "      <td>None</td>\n",
       "      <td>None</td>\n",
       "      <td>None</td>\n",
       "      <td>None</td>\n",
       "      <td>None</td>\n",
       "      <td>None</td>\n",
       "      <td>None</td>\n",
       "      <td>None</td>\n",
       "      <td>None</td>\n",
       "      <td>None</td>\n",
       "      <td>None</td>\n",
       "      <td>None</td>\n",
       "      <td>None</td>\n",
       "      <td>2016-05-01</td>\n",
       "      <td>03:00:00</td>\n",
       "    </tr>\n",
       "    <tr>\n",
       "      <th>3</th>\n",
       "      <td>2016-05-01 05:00:00</td>\n",
       "      <td>None</td>\n",
       "      <td>None</td>\n",
       "      <td>None</td>\n",
       "      <td>None</td>\n",
       "      <td>None</td>\n",
       "      <td>None</td>\n",
       "      <td>None</td>\n",
       "      <td>None</td>\n",
       "      <td>None</td>\n",
       "      <td>None</td>\n",
       "      <td>None</td>\n",
       "      <td>None</td>\n",
       "      <td>None</td>\n",
       "      <td>None</td>\n",
       "      <td>2016-05-01</td>\n",
       "      <td>05:00:00</td>\n",
       "    </tr>\n",
       "    <tr>\n",
       "      <th>4</th>\n",
       "      <td>2016-05-01 07:00:00</td>\n",
       "      <td>None</td>\n",
       "      <td>None</td>\n",
       "      <td>None</td>\n",
       "      <td>None</td>\n",
       "      <td>None</td>\n",
       "      <td>None</td>\n",
       "      <td>None</td>\n",
       "      <td>None</td>\n",
       "      <td>None</td>\n",
       "      <td>None</td>\n",
       "      <td>None</td>\n",
       "      <td>None</td>\n",
       "      <td>None</td>\n",
       "      <td>None</td>\n",
       "      <td>2016-05-01</td>\n",
       "      <td>07:00:00</td>\n",
       "    </tr>\n",
       "  </tbody>\n",
       "</table>\n",
       "</div>"
      ],
      "text/plain": [
       "             DateTime 5-6 Floor String Pot (8917/18)  \\\n",
       "0 2016-04-30 23:00:00                           None   \n",
       "1 2016-05-01 01:00:00                           None   \n",
       "2 2016-05-01 03:00:00                           None   \n",
       "3 2016-05-01 05:00:00                           None   \n",
       "4 2016-05-01 07:00:00                           None   \n",
       "\n",
       "  4-5 Floor String Pot (8917/17) 3-4 Floor String Pot (8931/19)  \\\n",
       "0                           None                           None   \n",
       "1                           None                           None   \n",
       "2                           None                           None   \n",
       "3                           None                           None   \n",
       "4                           None                           None   \n",
       "\n",
       "  2nd Floor String Pot (edge) (5587/2) 9th Floor String Pot (8903/17)  \\\n",
       "0                                 None                           None   \n",
       "1                                 None                           None   \n",
       "2                                 None                           None   \n",
       "3                                 None                           None   \n",
       "4                                 None                           None   \n",
       "\n",
       "  10th Floor String Pot (8903/18) 12th Floor String Pot (8903/19)  \\\n",
       "0                            None                            None   \n",
       "1                            None                            None   \n",
       "2                            None                            None   \n",
       "3                            None                            None   \n",
       "4                            None                            None   \n",
       "\n",
       "  13th Floor String Pot (8903/20) 16th Floor String Pot (8903/22)  \\\n",
       "0                            None                            None   \n",
       "1                            None                            None   \n",
       "2                            None                            None   \n",
       "3                            None                            None   \n",
       "4                            None                            None   \n",
       "\n",
       "  17th Floor String Pot (8903/23) 18th Floor String Pot (8903/24)  \\\n",
       "0                            None                            None   \n",
       "1                            None                            None   \n",
       "2                            None                            None   \n",
       "3                            None                            None   \n",
       "4                            None                            None   \n",
       "\n",
       "  7th Floor String Pot (8917/23) 8th Floor String Pot (8917/24)  \\\n",
       "0                           None                           None   \n",
       "1                           None                           None   \n",
       "2                           None                           None   \n",
       "3                           None                           None   \n",
       "4                           None                           None   \n",
       "\n",
       "  15th Floor String Pot (8903/21)        Date      Time  \n",
       "0                            None  2016-04-30  23:00:00  \n",
       "1                            None  2016-05-01  01:00:00  \n",
       "2                            None  2016-05-01  03:00:00  \n",
       "3                            None  2016-05-01  05:00:00  \n",
       "4                            None  2016-05-01  07:00:00  "
      ]
     },
     "execution_count": 3,
     "metadata": {},
     "output_type": "execute_result"
    }
   ],
   "source": [
    "datasheet.head()"
   ]
  },
  {
   "cell_type": "code",
   "execution_count": null,
   "id": "3ed8b0f2-f7dc-4447-ac95-d6c879fc7abb",
   "metadata": {
    "jupyter": {
     "source_hidden": true
    },
    "tags": []
   },
   "outputs": [],
   "source": [
    "datasheet['5-6 Floor String Pot (8917/18)'][0]"
   ]
  },
  {
   "cell_type": "markdown",
   "id": "949dbc19-4d3f-4397-ad9a-07fee1dd15d7",
   "metadata": {},
   "source": [
    "#### - get datetime right (done)"
   ]
  },
  {
   "cell_type": "code",
   "execution_count": null,
   "id": "84ef7eab-9b2a-47b6-bc13-413404f6a086",
   "metadata": {
    "jupyter": {
     "source_hidden": true
    },
    "tags": []
   },
   "outputs": [],
   "source": [
    "datasheet.iloc[0,0]"
   ]
  },
  {
   "cell_type": "code",
   "execution_count": null,
   "id": "65f982cb-b23f-471d-bbd7-8af749fa1f14",
   "metadata": {
    "jupyter": {
     "source_hidden": true
    },
    "tags": []
   },
   "outputs": [],
   "source": [
    "datasheet['Date'] = datasheet[\"DateTime\"].apply(lambda x: dt.strptime(x, \"%Y-%m-%d %H:%M:%S%z\").date())\n",
    "datasheet['Time'] = datasheet[\"DateTime\"].apply(lambda x: dt.strptime(x, \"%Y-%m-%d %H:%M:%S%z\").time())"
   ]
  },
  {
   "cell_type": "code",
   "execution_count": null,
   "id": "8ea114b3-3b8b-4dd8-82af-c0f1a4ecd462",
   "metadata": {
    "jupyter": {
     "source_hidden": true
    },
    "tags": []
   },
   "outputs": [],
   "source": [
    "datasheet.head()"
   ]
  },
  {
   "cell_type": "markdown",
   "id": "c3a49f9d-25ca-448b-a866-d396b839287c",
   "metadata": {},
   "source": [
    "#### - preprocessing"
   ]
  },
  {
   "cell_type": "code",
   "execution_count": null,
   "id": "f329b2ac-b1c8-4044-aa79-4a08e0d07469",
   "metadata": {},
   "outputs": [],
   "source": [
    "trial_1.preprocess('5-6 Floor String Pot (8917/18)')"
   ]
  },
  {
   "cell_type": "code",
   "execution_count": null,
   "id": "49ee0e8c-7a3e-4f97-b62e-1649b98379fa",
   "metadata": {
    "tags": []
   },
   "outputs": [],
   "source": [
    "print(datasheet['5-6 Floor String Pot (8917/18)'][16800])"
   ]
  },
  {
   "cell_type": "code",
   "execution_count": null,
   "id": "9f08a846-4b28-40d2-ac45-6e5e13120eb1",
   "metadata": {},
   "outputs": [],
   "source": []
  }
 ],
 "metadata": {
  "kernelspec": {
   "display_name": "Python 3",
   "language": "python",
   "name": "python3"
  },
  "language_info": {
   "codemirror_mode": {
    "name": "ipython",
    "version": 3
   },
   "file_extension": ".py",
   "mimetype": "text/x-python",
   "name": "python",
   "nbconvert_exporter": "python",
   "pygments_lexer": "ipython3",
   "version": "3.9.5"
  }
 },
 "nbformat": 4,
 "nbformat_minor": 5
}
