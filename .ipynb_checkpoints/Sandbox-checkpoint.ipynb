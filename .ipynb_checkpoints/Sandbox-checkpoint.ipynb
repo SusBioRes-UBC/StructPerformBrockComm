{
 "cells": [
  {
   "cell_type": "markdown",
   "id": "08afc884-e7e0-48c5-b169-cf741db143fa",
   "metadata": {},
   "source": [
    "## This is the sandbox to try out different scripts for Brock Common Tallwood House project"
   ]
  },
  {
   "cell_type": "code",
   "execution_count": 140,
   "id": "b90d57e2-8be0-487f-a155-67dba42843b0",
   "metadata": {},
   "outputs": [],
   "source": [
    "from brock_comm_CLT_perform import CLT_perform\n",
    "import pandas as pd\n",
    "from datetime import datetime as dt"
   ]
  },
  {
   "cell_type": "code",
   "execution_count": 149,
   "id": "807b7b65-f573-4b26-b5c7-4d177b3652b9",
   "metadata": {},
   "outputs": [],
   "source": [
    "trial_1 = CLT_perform(\"Floor 3.csv\")\n",
    "datasheet = trial_1.worksheet\n"
   ]
  },
  {
   "cell_type": "code",
   "execution_count": 84,
   "id": "679219c2-a449-48dd-96cc-44b683c24387",
   "metadata": {},
   "outputs": [],
   "source": [
    "#datasheet.head()"
   ]
  },
  {
   "cell_type": "markdown",
   "id": "949dbc19-4d3f-4397-ad9a-07fee1dd15d7",
   "metadata": {},
   "source": [
    "#### - get datetime right (done)"
   ]
  },
  {
   "cell_type": "code",
   "execution_count": 150,
   "id": "84ef7eab-9b2a-47b6-bc13-413404f6a086",
   "metadata": {
    "collapsed": true,
    "jupyter": {
     "outputs_hidden": true,
     "source_hidden": true
    },
    "tags": []
   },
   "outputs": [
    {
     "data": {
      "text/plain": [
       "'2016-04-30 23:00:00-0700'"
      ]
     },
     "execution_count": 150,
     "metadata": {},
     "output_type": "execute_result"
    }
   ],
   "source": [
    "datasheet.iloc[0,0]"
   ]
  },
  {
   "cell_type": "code",
   "execution_count": 155,
   "id": "65f982cb-b23f-471d-bbd7-8af749fa1f14",
   "metadata": {
    "jupyter": {
     "source_hidden": true
    },
    "tags": []
   },
   "outputs": [],
   "source": [
    "datasheet['Date'] = datasheet[\"DateTime\"].apply(lambda x: dt.strptime(x, \"%Y-%m-%d %H:%M:%S%z\").date())\n",
    "datasheet['Time'] = datasheet[\"DateTime\"].apply(lambda x: dt.strptime(x, \"%Y-%m-%d %H:%M:%S%z\").time())"
   ]
  },
  {
   "cell_type": "code",
   "execution_count": 156,
   "id": "8ea114b3-3b8b-4dd8-82af-c0f1a4ecd462",
   "metadata": {
    "collapsed": true,
    "jupyter": {
     "outputs_hidden": true,
     "source_hidden": true
    },
    "tags": []
   },
   "outputs": [
    {
     "data": {
      "text/html": [
       "<div>\n",
       "<style scoped>\n",
       "    .dataframe tbody tr th:only-of-type {\n",
       "        vertical-align: middle;\n",
       "    }\n",
       "\n",
       "    .dataframe tbody tr th {\n",
       "        vertical-align: top;\n",
       "    }\n",
       "\n",
       "    .dataframe thead th {\n",
       "        text-align: right;\n",
       "    }\n",
       "</style>\n",
       "<table border=\"1\" class=\"dataframe\">\n",
       "  <thead>\n",
       "    <tr style=\"text-align: right;\">\n",
       "      <th></th>\n",
       "      <th>DateTime</th>\n",
       "      <th>W 3rd Edge MC1A (8912/19)</th>\n",
       "      <th>W 3rd Edge MC1B (8912/20)</th>\n",
       "      <th>W 3rd Edge MC2 (8912/21)</th>\n",
       "      <th>W 3rd Edge MC3 (8912/22)</th>\n",
       "      <th>W 3rd Edge MC4 (8912/23)</th>\n",
       "      <th>W 3rd Edge MC5 (8912/24)</th>\n",
       "      <th>E 3rd Edge T1 (8901/17)</th>\n",
       "      <th>E 3rd Edge T3 (8901/18)</th>\n",
       "      <th>E 3rd Edge MC1A (8901/19)</th>\n",
       "      <th>...</th>\n",
       "      <th>E 3rd T1 (8918/17)</th>\n",
       "      <th>E 3rd T3 (8918/18)</th>\n",
       "      <th>E 3rd MC1A (8918/19)</th>\n",
       "      <th>E 3rd MC1B (SPL) (8918/20)</th>\n",
       "      <th>E 3rd MC2 (8918/21)</th>\n",
       "      <th>E 3rd MC3 (8918/22)</th>\n",
       "      <th>E 3rd MC4 (8918/23)</th>\n",
       "      <th>E 3rd MC5 (8918/24)</th>\n",
       "      <th>Date</th>\n",
       "      <th>Time</th>\n",
       "    </tr>\n",
       "  </thead>\n",
       "  <tbody>\n",
       "    <tr>\n",
       "      <th>0</th>\n",
       "      <td>2016-04-30 23:00:00-0700</td>\n",
       "      <td>NULL</td>\n",
       "      <td>NULL</td>\n",
       "      <td>NULL</td>\n",
       "      <td>NULL</td>\n",
       "      <td>NULL</td>\n",
       "      <td>NULL</td>\n",
       "      <td>NULL</td>\n",
       "      <td>NULL</td>\n",
       "      <td>NULL</td>\n",
       "      <td>...</td>\n",
       "      <td>NULL</td>\n",
       "      <td>NULL</td>\n",
       "      <td>NULL</td>\n",
       "      <td>NULL</td>\n",
       "      <td>NULL</td>\n",
       "      <td>NULL</td>\n",
       "      <td>NULL</td>\n",
       "      <td>NULL</td>\n",
       "      <td>2016-04-30</td>\n",
       "      <td>23:00:00</td>\n",
       "    </tr>\n",
       "    <tr>\n",
       "      <th>1</th>\n",
       "      <td>2016-05-01 01:00:00-0700</td>\n",
       "      <td>NULL</td>\n",
       "      <td>NULL</td>\n",
       "      <td>NULL</td>\n",
       "      <td>NULL</td>\n",
       "      <td>NULL</td>\n",
       "      <td>NULL</td>\n",
       "      <td>NULL</td>\n",
       "      <td>NULL</td>\n",
       "      <td>NULL</td>\n",
       "      <td>...</td>\n",
       "      <td>NULL</td>\n",
       "      <td>NULL</td>\n",
       "      <td>NULL</td>\n",
       "      <td>NULL</td>\n",
       "      <td>NULL</td>\n",
       "      <td>NULL</td>\n",
       "      <td>NULL</td>\n",
       "      <td>NULL</td>\n",
       "      <td>2016-05-01</td>\n",
       "      <td>01:00:00</td>\n",
       "    </tr>\n",
       "    <tr>\n",
       "      <th>2</th>\n",
       "      <td>2016-05-01 03:00:00-0700</td>\n",
       "      <td>NULL</td>\n",
       "      <td>NULL</td>\n",
       "      <td>NULL</td>\n",
       "      <td>NULL</td>\n",
       "      <td>NULL</td>\n",
       "      <td>NULL</td>\n",
       "      <td>NULL</td>\n",
       "      <td>NULL</td>\n",
       "      <td>NULL</td>\n",
       "      <td>...</td>\n",
       "      <td>NULL</td>\n",
       "      <td>NULL</td>\n",
       "      <td>NULL</td>\n",
       "      <td>NULL</td>\n",
       "      <td>NULL</td>\n",
       "      <td>NULL</td>\n",
       "      <td>NULL</td>\n",
       "      <td>NULL</td>\n",
       "      <td>2016-05-01</td>\n",
       "      <td>03:00:00</td>\n",
       "    </tr>\n",
       "    <tr>\n",
       "      <th>3</th>\n",
       "      <td>2016-05-01 05:00:00-0700</td>\n",
       "      <td>NULL</td>\n",
       "      <td>NULL</td>\n",
       "      <td>NULL</td>\n",
       "      <td>NULL</td>\n",
       "      <td>NULL</td>\n",
       "      <td>NULL</td>\n",
       "      <td>NULL</td>\n",
       "      <td>NULL</td>\n",
       "      <td>NULL</td>\n",
       "      <td>...</td>\n",
       "      <td>NULL</td>\n",
       "      <td>NULL</td>\n",
       "      <td>NULL</td>\n",
       "      <td>NULL</td>\n",
       "      <td>NULL</td>\n",
       "      <td>NULL</td>\n",
       "      <td>NULL</td>\n",
       "      <td>NULL</td>\n",
       "      <td>2016-05-01</td>\n",
       "      <td>05:00:00</td>\n",
       "    </tr>\n",
       "    <tr>\n",
       "      <th>4</th>\n",
       "      <td>2016-05-01 07:00:00-0700</td>\n",
       "      <td>NULL</td>\n",
       "      <td>NULL</td>\n",
       "      <td>NULL</td>\n",
       "      <td>NULL</td>\n",
       "      <td>NULL</td>\n",
       "      <td>NULL</td>\n",
       "      <td>NULL</td>\n",
       "      <td>NULL</td>\n",
       "      <td>NULL</td>\n",
       "      <td>...</td>\n",
       "      <td>NULL</td>\n",
       "      <td>NULL</td>\n",
       "      <td>NULL</td>\n",
       "      <td>NULL</td>\n",
       "      <td>NULL</td>\n",
       "      <td>NULL</td>\n",
       "      <td>NULL</td>\n",
       "      <td>NULL</td>\n",
       "      <td>2016-05-01</td>\n",
       "      <td>07:00:00</td>\n",
       "    </tr>\n",
       "  </tbody>\n",
       "</table>\n",
       "<p>5 rows × 35 columns</p>\n",
       "</div>"
      ],
      "text/plain": [
       "                   DateTime W 3rd Edge MC1A (8912/19)  \\\n",
       "0  2016-04-30 23:00:00-0700                     NULL    \n",
       "1  2016-05-01 01:00:00-0700                     NULL    \n",
       "2  2016-05-01 03:00:00-0700                     NULL    \n",
       "3  2016-05-01 05:00:00-0700                     NULL    \n",
       "4  2016-05-01 07:00:00-0700                     NULL    \n",
       "\n",
       "  W 3rd Edge MC1B (8912/20) W 3rd Edge MC2 (8912/21) W 3rd Edge MC3 (8912/22)  \\\n",
       "0                     NULL                     NULL                     NULL    \n",
       "1                     NULL                     NULL                     NULL    \n",
       "2                     NULL                     NULL                     NULL    \n",
       "3                     NULL                     NULL                     NULL    \n",
       "4                     NULL                     NULL                     NULL    \n",
       "\n",
       "  W 3rd Edge MC4 (8912/23) W 3rd Edge MC5 (8912/24) E 3rd Edge T1 (8901/17)  \\\n",
       "0                    NULL                     NULL                    NULL    \n",
       "1                    NULL                     NULL                    NULL    \n",
       "2                    NULL                     NULL                    NULL    \n",
       "3                    NULL                     NULL                    NULL    \n",
       "4                    NULL                     NULL                    NULL    \n",
       "\n",
       "  E 3rd Edge T3 (8901/18) E 3rd Edge MC1A (8901/19)  ... E 3rd T1 (8918/17)  \\\n",
       "0                   NULL                      NULL   ...              NULL    \n",
       "1                   NULL                      NULL   ...              NULL    \n",
       "2                   NULL                      NULL   ...              NULL    \n",
       "3                   NULL                      NULL   ...              NULL    \n",
       "4                   NULL                      NULL   ...              NULL    \n",
       "\n",
       "  E 3rd T3 (8918/18) E 3rd MC1A (8918/19) E 3rd MC1B (SPL) (8918/20)  \\\n",
       "0              NULL                 NULL                       NULL    \n",
       "1              NULL                 NULL                       NULL    \n",
       "2              NULL                 NULL                       NULL    \n",
       "3              NULL                 NULL                       NULL    \n",
       "4              NULL                 NULL                       NULL    \n",
       "\n",
       "  E 3rd MC2 (8918/21) E 3rd MC3 (8918/22) E 3rd MC4 (8918/23)  \\\n",
       "0               NULL                NULL                NULL    \n",
       "1               NULL                NULL                NULL    \n",
       "2               NULL                NULL                NULL    \n",
       "3               NULL                NULL                NULL    \n",
       "4               NULL                NULL                NULL    \n",
       "\n",
       "  E 3rd MC5 (8918/24)        Date      Time  \n",
       "0               NULL   2016-04-30  23:00:00  \n",
       "1               NULL   2016-05-01  01:00:00  \n",
       "2               NULL   2016-05-01  03:00:00  \n",
       "3               NULL   2016-05-01  05:00:00  \n",
       "4               NULL   2016-05-01  07:00:00  \n",
       "\n",
       "[5 rows x 35 columns]"
      ]
     },
     "execution_count": 156,
     "metadata": {},
     "output_type": "execute_result"
    }
   ],
   "source": [
    "datasheet.head()"
   ]
  },
  {
   "cell_type": "markdown",
   "id": "c3a49f9d-25ca-448b-a866-d396b839287c",
   "metadata": {},
   "source": [
    "#### - "
   ]
  },
  {
   "cell_type": "code",
   "execution_count": null,
   "id": "f329b2ac-b1c8-4044-aa79-4a08e0d07469",
   "metadata": {},
   "outputs": [],
   "source": []
  }
 ],
 "metadata": {
  "kernelspec": {
   "display_name": "Python 3",
   "language": "python",
   "name": "python3"
  },
  "language_info": {
   "codemirror_mode": {
    "name": "ipython",
    "version": 3
   },
   "file_extension": ".py",
   "mimetype": "text/x-python",
   "name": "python",
   "nbconvert_exporter": "python",
   "pygments_lexer": "ipython3",
   "version": "3.9.5"
  }
 },
 "nbformat": 4,
 "nbformat_minor": 5
}
